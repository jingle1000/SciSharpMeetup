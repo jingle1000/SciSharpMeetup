{
 "cells": [
  {
   "cell_type": "code",
   "execution_count": 1,
   "metadata": {},
   "outputs": [],
   "source": [
    "import numpy as np\n",
    "import matplotlib.pyplot as plt\n",
    "import math"
   ]
  },
  {
   "cell_type": "code",
   "execution_count": 2,
   "metadata": {},
   "outputs": [
    {
     "data": {
      "text/plain": [
       "array([ 5.08420609, -3.85292647,  2.1160526 , -6.30571928, -0.51805425,\n",
       "        0.73929204, -4.55425881,  5.59254778,  1.35268702,  2.53417952])"
      ]
     },
     "execution_count": 2,
     "metadata": {},
     "output_type": "execute_result"
    }
   ],
   "source": [
    "x = np.linspace(-10, 10, 200)\n",
    "noise = np.random.normal(0,4,200)\n",
    "noise[:10]"
   ]
  },
  {
   "cell_type": "code",
   "execution_count": 3,
   "metadata": {},
   "outputs": [],
   "source": [
    "y = []\n",
    "for i in range(0, len(x)):\n",
    "    y.append(x[i]+noise[i])"
   ]
  },
  {
   "cell_type": "code",
   "execution_count": 5,
   "metadata": {},
   "outputs": [
    {
     "data": {
      "text/plain": [
       "<matplotlib.collections.PathCollection at 0x174ae64d0b8>"
      ]
     },
     "execution_count": 5,
     "metadata": {},
     "output_type": "execute_result"
    },
    {
     "data": {
      "image/png": "[encoded data removed]",
      "text/plain": [
       "<Figure size 432x288 with 1 Axes>"
      ]
     },
     "metadata": {
      "needs_background": "light"
     },
     "output_type": "display_data"
    }
   ],
   "source": [
    "plt.scatter(x, y)"
   ]
  },
  {
   "cell_type": "code",
   "execution_count": 6,
   "metadata": {},
   "outputs": [],
   "source": [
    "import tensorflow as tf"
   ]
  },
  {
   "cell_type": "code",
   "execution_count": 7,
   "metadata": {},
   "outputs": [
    {
     "name": "stdout",
     "output_type": "stream",
     "text": [
      "WARNING:tensorflow:From C:\\Users\\jingl\\.conda\\envs\\tfgpu\\lib\\site-packages\\tensorflow\\python\\framework\\op_def_library.py:263: colocate_with (from tensorflow.python.framework.ops) is deprecated and will be removed in a future version.\n",
      "Instructions for updating:\n",
      "Colocations handled automatically by placer.\n",
      "WARNING:tensorflow:From C:\\Users\\jingl\\.conda\\envs\\tfgpu\\lib\\site-packages\\tensorflow\\python\\ops\\math_ops.py:3066: to_int32 (from tensorflow.python.ops.math_ops) is deprecated and will be removed in a future version.\n",
      "Instructions for updating:\n",
      "Use tf.cast instead.\n"
     ]
    }
   ],
   "source": [
    "train_X = x\n",
    "train_Y = np.array(y)\n",
    "\n",
    "n_samples = train_X.shape[0]\n",
    "learning_rate = 0.01\n",
    "training_epochs = 100\n",
    "\n",
    "X = tf.placeholder(tf.float32)\n",
    "Y = tf.placeholder(tf.float32)\n",
    "\n",
    "W = tf.Variable(-0.06, name=\"weight\")\n",
    "b = tf.Variable(-0.73, name=\"bias\")\n",
    "\n",
    "pred = tf.add(tf.multiply(X, W), b)\n",
    "\n",
    "cost = tf.reduce_sum(tf.pow(pred-Y, 2.0)) / (2.0 * n_samples)\n",
    "\n",
    "optimizer = tf.train.GradientDescentOptimizer(learning_rate).minimize(cost)\n",
    "\n",
    "init = tf.global_variables_initializer()\n",
    "\n",
    "sess = tf.Session()\n",
    "\n",
    "sess.run(init)"
   ]
  },
  {
   "cell_type": "code",
   "execution_count": 11,
   "metadata": {},
   "outputs": [
    {
     "name": "stdout",
     "output_type": "stream",
     "text": [
      "Epoch 49 Cost None W 1.0509251356124878 b -0.5444254875183105\n",
      "Epoch 99 Cost None W 1.0496991872787476 b -0.42520514130592346\n"
     ]
    }
   ],
   "source": [
    "for i in range(0, training_epochs):\n",
    "    for x1, y1 in zip(train_X, train_Y):\n",
    "        sess.run(optimizer, feed_dict={X:x1, Y: y1})\n",
    "    if (i+1) % 50 == 0:\n",
    "        c = sess.run(optimizer, feed_dict={X:x1, Y:y1})\n",
    "        print(f\"Epoch {i} Cost {c} W {sess.run(W)} b {sess.run(b)}\")\n"
   ]
  },
  {
   "cell_type": "code",
   "execution_count": 15,
   "metadata": {},
   "outputs": [
    {
     "data": {
      "text/plain": [
       "array([  3.19710504,  -4.26571209, -12.10552685,   4.64185752,\n",
       "         1.46609909,   2.00111907,  -7.66646001,  -2.38741364,\n",
       "         1.78824039,  -2.78779532])"
      ]
     },
     "execution_count": 15,
     "metadata": {},
     "output_type": "execute_result"
    }
   ],
   "source": [
    "noise = np.random.normal(0,4,200)\n",
    "noise[:10]"
   ]
  },
  {
   "cell_type": "code",
   "execution_count": 16,
   "metadata": {},
   "outputs": [],
   "source": [
    "y = []\n",
    "for i in range(0, len(x)):\n",
    "    y.append(x[i]+noise[i])"
   ]
  },
  {
   "cell_type": "code",
   "execution_count": 18,
   "metadata": {},
   "outputs": [],
   "source": [
    "test_X = x\n",
    "test_Y = y"
   ]
  },
  {
   "cell_type": "code",
   "execution_count": 20,
   "metadata": {},
   "outputs": [
    {
     "name": "stdout",
     "output_type": "stream",
     "text": [
      "Testing cost= 8.379524230957031\n"
     ]
    }
   ],
   "source": [
    "testing_cost = sess.run(tf.reduce_sum(tf.pow(pred - Y, 2.0)) / (2.0 * test_X.shape[0]) , feed_dict={X:test_X, Y: test_Y})\n",
    "print(f\"Testing cost= {testing_cost}\")"
   ]
  },
  {
   "cell_type": "code",
   "execution_count": null,
   "metadata": {},
   "outputs": [],
   "source": []
  }
 ],
 "metadata": {
  "kernelspec": {
   "display_name": "Python 3",
   "language": "python",
   "name": "python3"
  },
  "language_info": {
   "codemirror_mode": {
    "name": "ipython",
    "version": 3
   },
   "file_extension": ".py",
   "mimetype": "text/x-python",
   "name": "python",
   "nbconvert_exporter": "python",
   "pygments_lexer": "ipython3",
   "version": "3.7.3"
  }
 },
 "nbformat": 4,
 "nbformat_minor": 2
}
